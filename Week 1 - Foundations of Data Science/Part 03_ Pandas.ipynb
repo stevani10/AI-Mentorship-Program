{
 "cells": [
  {
   "cell_type": "code",
   "execution_count": null,
   "metadata": {
    "id": "FVNurR8dJQe2"
   },
   "outputs": [],
   "source": [
    "import warnings\n",
    "warnings.filterwarnings(\"ignore\")"
   ]
  },
  {
   "cell_type": "markdown",
   "metadata": {
    "id": "sR6tw21zJQe6"
   },
   "source": [
    "# Pandas\n",
    "\n",
    "- Pandas is an opne source library that was created to help manipulate data in Python.\n",
    "\n",
    "- You can use `pip install pandas` in your terminal / command prompt to install Pandas."
   ]
  },
  {
   "cell_type": "markdown",
   "metadata": {
    "id": "dQkvDhkIJQe7"
   },
   "source": [
    "# Import library"
   ]
  },
  {
   "cell_type": "code",
   "execution_count": null,
   "metadata": {
    "id": "J1SrXyeGJQe8"
   },
   "outputs": [],
   "source": [
    "import pandas as pd"
   ]
  },
  {
   "cell_type": "markdown",
   "metadata": {
    "id": "Jn0F325FJQe8"
   },
   "source": [
    "- Cek versi Pandas"
   ]
  },
  {
   "cell_type": "code",
   "execution_count": null,
   "metadata": {
    "id": "3HQFolmXJQe9"
   },
   "outputs": [],
   "source": [
    "pd.__version__"
   ]
  },
  {
   "cell_type": "markdown",
   "metadata": {
    "id": "0mqHDeTqJQe-"
   },
   "source": [
    "# Pandas Data Structure"
   ]
  },
  {
   "cell_type": "markdown",
   "metadata": {
    "id": "ymF8-xn3JQe-"
   },
   "source": [
    "## 1. Series\n",
    "\n",
    "- Series is a one-dimensional Data Structure in Pandas\n",
    "\n",
    "- Series can be made from a simple list."
   ]
  },
  {
   "cell_type": "code",
   "execution_count": null,
   "metadata": {
    "id": "yApyIzerJQe-"
   },
   "outputs": [],
   "source": [
    "list_city = ['Jakarta','Surabaya','Bandung','Makasar','Jayapura']"
   ]
  },
  {
   "cell_type": "code",
   "execution_count": null,
   "metadata": {
    "id": "Lpc9F6QpJQe_"
   },
   "outputs": [],
   "source": [
    "list_city[0]"
   ]
  },
  {
   "cell_type": "code",
   "execution_count": null,
   "metadata": {
    "id": "jjbnw6CpJQe_"
   },
   "outputs": [],
   "source": [
    "series_city = pd.Series(list_city)\n",
    "print(series_city)"
   ]
  },
  {
   "cell_type": "code",
   "execution_count": null,
   "metadata": {
    "id": "CXgxUUZrJQfA"
   },
   "outputs": [],
   "source": [
    "type(series_city)"
   ]
  },
  {
   "cell_type": "code",
   "execution_count": null,
   "metadata": {
    "id": "sNH5Q8HhJQfA"
   },
   "outputs": [],
   "source": [
    "list_number = [1,3,5,7,9,11]\n",
    "series_number = pd.Series(list_number)\n",
    "print(series_number)"
   ]
  },
  {
   "cell_type": "code",
   "execution_count": null,
   "metadata": {
    "id": "bwTr_hh6JQfA"
   },
   "outputs": [],
   "source": [
    "type(series_city)"
   ]
  },
  {
   "cell_type": "markdown",
   "metadata": {
    "id": "IxqG4IAuJQfA"
   },
   "source": [
    "## 2. DataFrame\n",
    "\n",
    "- Dataframe is a data structure that represents tabular data (think rows and columns like in Ms. Excel).\n",
    "\n",
    "- The simplest form of a DataFrame can be made from `dict`."
   ]
  },
  {
   "cell_type": "code",
   "execution_count": null,
   "metadata": {
    "id": "Ba2J1d6qJQfB"
   },
   "outputs": [],
   "source": [
    "data_dict1 = {\"PassengerID\": 1, \"Survived\": 0, \"Name\":\"Braund\"}\n",
    "data_dict2 = {\"PassengerID\": 2, \"Survived\": 1, \"Name\":\"Cumings\"}\n",
    "data_dict3 = {\"PassengerID\": 3, \"Survived\": 1, \"Name\":\"Heikkinen\"}\n",
    "data_dict4 = {\"PassengerID\": 4, \"Survived\": 1, \"Name\":\"Futrelle\"}\n",
    "data_dict5 = {\"PassengerID\": 5, \"Survived\": 0, \"Name\":\"Allen\"}"
   ]
  },
  {
   "cell_type": "code",
   "execution_count": null,
   "metadata": {
    "id": "KA98wuiuJQfB"
   },
   "outputs": [],
   "source": [
    "pd.DataFrame(data=[data_dict1, data_dict2, data_dict3, data_dict4, data_dict5])"
   ]
  },
  {
   "cell_type": "code",
   "execution_count": null,
   "metadata": {
    "id": "VHElKheGJQfB"
   },
   "outputs": [],
   "source": [
    "df = pd.DataFrame(data=[data_dict1, data_dict2, data_dict3,\n",
    "                        data_dict4, data_dict5])\n",
    "df"
   ]
  },
  {
   "cell_type": "code",
   "execution_count": null,
   "metadata": {
    "id": "TBpXpypkJQfB"
   },
   "outputs": [],
   "source": [
    "df"
   ]
  },
  {
   "cell_type": "code",
   "execution_count": null,
   "metadata": {
    "id": "ERjcjOW1JQfC"
   },
   "outputs": [],
   "source": [
    "type(df)"
   ]
  },
  {
   "cell_type": "markdown",
   "metadata": {
    "id": "JVd2EGe2JQfC"
   },
   "source": [
    "# Importing Files"
   ]
  },
  {
   "cell_type": "markdown",
   "metadata": {
    "id": "tdBXNi29JQfC"
   },
   "source": [
    "## 1. CSV\n",
    "\n",
    "- To read a `csv` file, you only need to use `read_csv(<file location>)`.\n",
    "\n",
    "- The code below is to read a csv file taken from: https://www.kaggle.com/crawford/80-cereals"
   ]
  },
  {
   "cell_type": "code",
   "execution_count": null,
   "metadata": {
    "id": "LgoczdYbJQfC",
    "scrolled": true
   },
   "outputs": [],
   "source": [
    "pd.read_csv(\"https://raw.githubusercontent.com/binggas/public-dataset/main/cereal.csv\")"
   ]
  },
  {
   "cell_type": "code",
   "execution_count": null,
   "metadata": {
    "id": "Bfl_wvM_JQfE"
   },
   "outputs": [],
   "source": [
    "df = pd.read_csv(\"https://raw.githubusercontent.com/binggas/public-dataset/main/cereal.csv\")\n",
    "df.head()"
   ]
  },
  {
   "cell_type": "code",
   "execution_count": null,
   "metadata": {
    "id": "4tT4KPXuJQfE"
   },
   "outputs": [],
   "source": [
    "type(df)"
   ]
  },
  {
   "cell_type": "markdown",
   "metadata": {
    "id": "bU5rhKTrJQfE"
   },
   "source": [
    "- Some csv file might be separated with `;` character."
   ]
  },
  {
   "cell_type": "code",
   "execution_count": null,
   "metadata": {
    "id": "0LXyFHcxJQfE"
   },
   "outputs": [],
   "source": [
    "pd.read_csv(\"https://raw.githubusercontent.com/binggas/public-dataset/main/cereal_v2.csv\")"
   ]
  },
  {
   "cell_type": "markdown",
   "metadata": {
    "id": "9O5PRo3SJQfF"
   },
   "source": [
    "- To handle it, we can use this parameter: `sep=';'`"
   ]
  },
  {
   "cell_type": "code",
   "execution_count": null,
   "metadata": {
    "id": "HNtQVTWjJQfF"
   },
   "outputs": [],
   "source": [
    "pd.read_csv(\"https://raw.githubusercontent.com/binggas/public-dataset/main/cereal_v2.csv\", sep=';')"
   ]
  },
  {
   "cell_type": "code",
   "execution_count": null,
   "metadata": {
    "id": "yApRlMnKJQfF"
   },
   "outputs": [],
   "source": [
    "df = pd.read_csv(\"https://raw.githubusercontent.com/binggas/public-dataset/main/cereal_v2.csv\", sep=';')\n",
    "df.head()"
   ]
  },
  {
   "cell_type": "markdown",
   "metadata": {
    "id": "zMuy958iJQfF"
   },
   "source": [
    "- To export a file from DataFrame back to csv, we can use this function: `to_csv()`"
   ]
  },
  {
   "cell_type": "code",
   "execution_count": null,
   "metadata": {
    "id": "Vj5MDx7cJQfF"
   },
   "outputs": [],
   "source": [
    "df.to_csv(\"./data/file_baru.csv\", index=0)"
   ]
  },
  {
   "cell_type": "code",
   "execution_count": null,
   "metadata": {
    "id": "KOgfXF_xJQfF"
   },
   "outputs": [],
   "source": [
    "# pd.read_csv(\"./data/file_baru.csv\")"
   ]
  },
  {
   "cell_type": "markdown",
   "metadata": {
    "id": "DzyfUJdFJQfG"
   },
   "source": [
    "## 2. Excel\n",
    "\n",
    "- Excel files can be imported easily with this function: `read_excel()`\n",
    "\n",
    "- Documentation: [source](https://pandas.pydata.org/pandas-docs/stable/reference/api/pandas.read_excel.html#pandas.read_excel)"
   ]
  },
  {
   "cell_type": "code",
   "execution_count": null,
   "metadata": {
    "id": "oxKvSe90JQfG"
   },
   "outputs": [],
   "source": [
    "pd.read_excel(\"https://raw.githubusercontent.com/binggas/public-dataset/main/cereal_v3.xlsx\")\n",
    "\n",
    "# pd.read_excel(\"https://raw.githubusercontent.com/binggas/public-dataset/main/cereal_v3.xlsx\", skiprows=0)"
   ]
  },
  {
   "cell_type": "code",
   "execution_count": null,
   "metadata": {
    "id": "VM7H3L2PJQfG"
   },
   "outputs": [],
   "source": [
    "df = pd.read_excel(\"https://raw.githubusercontent.com/binggas/public-dataset/main/cereal_v3.xlsx\")\n",
    "df.head()"
   ]
  },
  {
   "cell_type": "code",
   "execution_count": null,
   "metadata": {
    "id": "VNuaGXWHJQfK"
   },
   "outputs": [],
   "source": [
    "df.columns"
   ]
  },
  {
   "cell_type": "markdown",
   "metadata": {
    "id": "VBih1OHXJQfK"
   },
   "source": [
    "- To export to an Excel file, use this function: `to_excel()`"
   ]
  },
  {
   "cell_type": "code",
   "execution_count": null,
   "metadata": {
    "id": "NW8a2oDFJQfL"
   },
   "outputs": [],
   "source": [
    "df.to_excel(\"./data/file_baru.xlsx\", index=0)"
   ]
  },
  {
   "cell_type": "code",
   "execution_count": null,
   "metadata": {
    "id": "Q_rhxEsNJQfL"
   },
   "outputs": [],
   "source": [
    "# pd.read_excel(\"./data/file_baru.xlsx\")"
   ]
  },
  {
   "cell_type": "markdown",
   "metadata": {
    "id": "Kxa8u53iJQfL"
   },
   "source": [
    "## 3. JSON\n",
    "\n",
    "- JSON is JavaScript Object Notation.\n",
    "\n",
    "- JSON file type is highly used in the internet to simplify data transfer and reading.\n",
    "\n",
    "- To import JSON data file, we can use: `read_json()`."
   ]
  },
  {
   "cell_type": "code",
   "execution_count": null,
   "metadata": {
    "id": "Xd9E7cQ3JQfL"
   },
   "outputs": [],
   "source": [
    "df = pd.read_json('https://raw.githubusercontent.com/binggas/public-dataset/main/iris.json')\n",
    "df.head()"
   ]
  },
  {
   "cell_type": "markdown",
   "metadata": {
    "id": "fE3TG4GjQ19C"
   },
   "source": [
    "- To export to a JSON file, use this function: to_json()"
   ]
  },
  {
   "cell_type": "code",
   "execution_count": null,
   "metadata": {
    "id": "EnqEKkSfJQfL"
   },
   "outputs": [],
   "source": [
    "df.to_json('./data/file_baru.json')"
   ]
  },
  {
   "cell_type": "code",
   "execution_count": null,
   "metadata": {
    "id": "vg4NkkU2JQfM"
   },
   "outputs": [],
   "source": [
    "# pd.read_json('./data/file_baru.json')"
   ]
  },
  {
   "cell_type": "markdown",
   "metadata": {
    "id": "kh2o4U_aJQfN"
   },
   "source": [
    "# DataFrame Attributes & Methods\n",
    "\n",
    "- There are several attributes that can be used to a DataFrame:\n",
    "\n",
    "| Attribute | Function |\n",
    "| --- | --- |\n",
    "| `index` | *return* *index* from *DataFrame* |\n",
    "| `columns` | *return* name of columns from *DataFrame* |\n",
    "| `axes` | *return* *list* of index of rows and columns from *DataFrame* |\n",
    "| `dtype` | *return* type of data from *DataFrame* |\n",
    "| `size` | *return* the total of elements from *DataFrame* |\n",
    "| `shape` | *return* the number of rows from *DataFrame* |\n",
    "| `ndim` | *return* dimensions/number of rows from *DataFrame* |\n",
    "| `values` | *return* all *value* from *DataFrame* |\n",
    "| `empty` | *return* if *DataFrame* empty or not |\n",
    "| `T` | *return* *DataFrame* that is *transpose*-ed |"
   ]
  },
  {
   "cell_type": "code",
   "execution_count": null,
   "metadata": {
    "id": "gS8jkggSJQfN"
   },
   "outputs": [],
   "source": [
    "df.head()"
   ]
  },
  {
   "cell_type": "code",
   "execution_count": null,
   "metadata": {
    "id": "kt2oyYupJQfN"
   },
   "outputs": [],
   "source": [
    "df.tail()"
   ]
  },
  {
   "cell_type": "code",
   "execution_count": null,
   "metadata": {
    "id": "D7wKXBSyJQfO"
   },
   "outputs": [],
   "source": [
    "df.index"
   ]
  },
  {
   "cell_type": "code",
   "execution_count": null,
   "metadata": {
    "id": "1DN5jEtCJQfO"
   },
   "outputs": [],
   "source": [
    "df.columns"
   ]
  },
  {
   "cell_type": "code",
   "execution_count": null,
   "metadata": {
    "id": "IU2dDk5cJQfO"
   },
   "outputs": [],
   "source": [
    "df.dtypes"
   ]
  },
  {
   "cell_type": "code",
   "execution_count": null,
   "metadata": {
    "id": "F8v1X7rsJQfO"
   },
   "outputs": [],
   "source": [
    "df.size"
   ]
  },
  {
   "cell_type": "code",
   "execution_count": null,
   "metadata": {
    "id": "YTuKranhJQfO"
   },
   "outputs": [],
   "source": [
    "df.shape"
   ]
  },
  {
   "cell_type": "code",
   "execution_count": null,
   "metadata": {
    "id": "KXDvGXPGJQfP"
   },
   "outputs": [],
   "source": [
    "df.ndim"
   ]
  },
  {
   "cell_type": "code",
   "execution_count": null,
   "metadata": {
    "id": "Eh04KilzJQfP"
   },
   "outputs": [],
   "source": [
    "df.head(10)"
   ]
  },
  {
   "cell_type": "code",
   "execution_count": null,
   "metadata": {
    "id": "U22WDbLYJQfP"
   },
   "outputs": [],
   "source": [
    "df.head(10).T"
   ]
  },
  {
   "cell_type": "code",
   "execution_count": null,
   "metadata": {
    "id": "8WEkaeGjJQfP"
   },
   "outputs": [],
   "source": [
    "df.T"
   ]
  },
  {
   "cell_type": "markdown",
   "metadata": {
    "id": "v6k2k1ktJQfQ"
   },
   "source": [
    "- A few methods that is used in a DataFrame:\n",
    "\n",
    "| *Method* | Function |\n",
    "| --- | --- |\n",
    "| `.describe()` | *return* statistics from *DataFrame* |\n",
    "| `.sum()` | *return* total sum from all data in the *DataFrame* |\n",
    "| `.mean()` | *return* average from the *DataFrame* |\n",
    "| `.median()` | *return* median from the *DataFrame* |\n",
    "| `.mode()` | *return* modus from the *DataFrame* |\n",
    "| `.head(n)` | *return* the first n-data from the *DataFrame* |\n",
    "| `.tail(n)` | *return* the last n-data from the *DataFrame* |"
   ]
  },
  {
   "cell_type": "code",
   "execution_count": null,
   "metadata": {
    "id": "oq-WfEG1JQfQ"
   },
   "outputs": [],
   "source": [
    "df.describe()"
   ]
  },
  {
   "cell_type": "code",
   "execution_count": null,
   "metadata": {
    "id": "I9afy4lWJQfQ"
   },
   "outputs": [],
   "source": [
    "df.head()"
   ]
  },
  {
   "cell_type": "code",
   "execution_count": null,
   "metadata": {
    "id": "sd8i5pl4JQfQ"
   },
   "outputs": [],
   "source": [
    "df.tail(5)"
   ]
  },
  {
   "cell_type": "code",
   "execution_count": null,
   "metadata": {
    "id": "ZSwwuIOsJQfQ"
   },
   "outputs": [],
   "source": [
    "df.mode()"
   ]
  },
  {
   "cell_type": "code",
   "execution_count": null,
   "metadata": {
    "id": "mUvbHJyhJQfQ"
   },
   "outputs": [],
   "source": [
    "import matplotlib.pyplot as plt\n",
    "import seaborn as sns"
   ]
  },
  {
   "cell_type": "code",
   "execution_count": null,
   "metadata": {
    "id": "GdMJmQHUJQfR"
   },
   "outputs": [],
   "source": [
    "plt.plot(df['sepalLength'], df['sepalWidth'], marker='o', linestyle='')\n",
    "plt.show()"
   ]
  },
  {
   "cell_type": "code",
   "execution_count": null,
   "metadata": {
    "id": "A_IcV0xWJQfR"
   },
   "outputs": [],
   "source": [
    "sns.scatterplot(data=df, x='sepalLength', y='sepalWidth', hue='species')"
   ]
  },
  {
   "cell_type": "code",
   "execution_count": null,
   "metadata": {
    "id": "TomDTIFRJQfT"
   },
   "outputs": [],
   "source": [
    "df.dtypes"
   ]
  },
  {
   "cell_type": "markdown",
   "metadata": {
    "id": "SyH1R_w1JQfU"
   },
   "source": [
    "# DataFrame Basic Operation\n",
    "\n",
    "- In this case, we want to play with the dataset of the passenger of the Titanic that can be obtained from [Kaggle](https://www.kaggle.com/c/titanic/data?select=train.csv)"
   ]
  },
  {
   "cell_type": "code",
   "execution_count": null,
   "metadata": {
    "id": "JwgdYLLTJQfU"
   },
   "outputs": [],
   "source": [
    "df_titanic = pd.read_csv(\"https://raw.githubusercontent.com/binggas/public-dataset/main/titanic.csv\")\n",
    "df_titanic.head()"
   ]
  },
  {
   "cell_type": "code",
   "execution_count": null,
   "metadata": {
    "id": "Jobv7LpHJQfU"
   },
   "outputs": [],
   "source": [
    "df_titanic.shape"
   ]
  },
  {
   "cell_type": "markdown",
   "metadata": {
    "id": "bqQGvxCHJQfV"
   },
   "source": [
    "- To access data by column, use `[\"column_name\"]`"
   ]
  },
  {
   "cell_type": "code",
   "execution_count": null,
   "metadata": {
    "id": "YiydryYgJQfV"
   },
   "outputs": [],
   "source": [
    "df_titanic['Age']"
   ]
  },
  {
   "cell_type": "code",
   "execution_count": null,
   "metadata": {
    "id": "bgDZUz-GJQfV"
   },
   "outputs": [],
   "source": [
    "# Call a few columns\n",
    "df_titanic[[\"Name\", \"Age\", \"Sex\"]].head()"
   ]
  },
  {
   "cell_type": "markdown",
   "metadata": {
    "id": "7hPOlWVQJQfW"
   },
   "source": [
    "- To access rows, use `loc`"
   ]
  },
  {
   "cell_type": "code",
   "execution_count": null,
   "metadata": {
    "id": "o1Di0AOmJQfW"
   },
   "outputs": [],
   "source": [
    "# Access the data in the first row\n",
    "df_titanic.loc[0]"
   ]
  },
  {
   "cell_type": "code",
   "execution_count": null,
   "metadata": {
    "id": "VSennCUQJQfW"
   },
   "outputs": [],
   "source": [
    "# Access the data in the first row with specific columns\n",
    "df_titanic.loc[0,[\"Name\", \"Sex\", \"Age\"]]"
   ]
  },
  {
   "cell_type": "code",
   "execution_count": null,
   "metadata": {
    "id": "kDwoWdiqJQfX"
   },
   "outputs": [],
   "source": [
    "# Or use iloc with specific indices\n",
    "df_titanic.iloc[0:2,3:6]"
   ]
  },
  {
   "cell_type": "code",
   "execution_count": null,
   "metadata": {
    "id": "_6Mr61ZsJQfX"
   },
   "outputs": [],
   "source": [
    "# Access the first 5 data\n",
    "df_titanic[:5]"
   ]
  },
  {
   "cell_type": "code",
   "execution_count": null,
   "metadata": {
    "id": "VjzVV6f6JQfX"
   },
   "outputs": [],
   "source": [
    "# Access the first 5 datawith specific columns\n",
    "df_titanic.loc[:5, [\"Name\", \"Sex\"]]"
   ]
  },
  {
   "cell_type": "code",
   "execution_count": null,
   "metadata": {
    "id": "Oo7iRRS8JQfe"
   },
   "outputs": [],
   "source": [
    "df_titanic[[\"Name\", \"Sex\"]].head()"
   ]
  },
  {
   "cell_type": "markdown",
   "metadata": {
    "id": "V7Z9Fd_2JQfe"
   },
   "source": [
    "- To get specific value and update said value, you can index the correct data and dirately mutate the value."
   ]
  },
  {
   "cell_type": "code",
   "execution_count": null,
   "metadata": {
    "id": "ERfN3qvfJQfe"
   },
   "outputs": [],
   "source": [
    "df_titanic[\"Age\"][0]"
   ]
  },
  {
   "cell_type": "code",
   "execution_count": null,
   "metadata": {
    "id": "y4tQCsFNJQff"
   },
   "outputs": [],
   "source": [
    "print(df_titanic[\"Age\"][0])\n",
    "\n",
    "df_titanic[\"Age\"][0] = 25\n",
    "\n",
    "print(df_titanic[\"Age\"][0])"
   ]
  },
  {
   "cell_type": "code",
   "execution_count": null,
   "metadata": {
    "id": "8POgljU7JQff"
   },
   "outputs": [],
   "source": [
    "df_titanic.head()"
   ]
  },
  {
   "cell_type": "markdown",
   "metadata": {
    "id": "ikGfd85sJQfg"
   },
   "source": [
    "- To add a new column you can use `[\"New Column\"]`."
   ]
  },
  {
   "cell_type": "code",
   "execution_count": null,
   "metadata": {
    "id": "9QdZU_uoJQfg"
   },
   "outputs": [],
   "source": [
    "import numpy as np\n",
    "\n",
    "df_titanic[\"new_col\"] = pd.Series(np.random.randn(150))\n",
    "\n",
    "df_titanic.head()"
   ]
  },
  {
   "cell_type": "markdown",
   "metadata": {
    "id": "A55RHQORJQfh"
   },
   "source": [
    "- To add new rows, you can use\n",
    "`append()`."
   ]
  },
  {
   "cell_type": "code",
   "execution_count": null,
   "metadata": {
    "id": "ILrV2kXNJQfh"
   },
   "outputs": [],
   "source": [
    "df_titanic[:3]"
   ]
  },
  {
   "cell_type": "code",
   "execution_count": null,
   "metadata": {
    "id": "sukXkFQ-JQfh"
   },
   "outputs": [],
   "source": [
    "df_titanic.tail()"
   ]
  },
  {
   "cell_type": "code",
   "execution_count": null,
   "metadata": {
    "id": "OL67xHtIJQfi"
   },
   "outputs": [],
   "source": [
    "# For example, we use df_titanic_addition that is a copy of the first 3 data\n",
    "\n",
    "df_titanic_addition = df_titanic[:3]\n",
    "\n",
    "# Then, we add df_titanic_addition to the df_titanic using .append()\n",
    "\n",
    "df_titanic = df_titanic.append(df_titanic_addition, ignore_index=True)\n",
    "df_titanic.tail(5)"
   ]
  },
  {
   "cell_type": "code",
   "execution_count": null,
   "metadata": {
    "id": "kuycAxasJQfi"
   },
   "outputs": [],
   "source": [
    "df_titanic.head()"
   ]
  },
  {
   "cell_type": "markdown",
   "metadata": {
    "id": "GhjkiqXdJQfi"
   },
   "source": [
    "- Use `drop(columns=[])` to delete a column."
   ]
  },
  {
   "cell_type": "code",
   "execution_count": null,
   "metadata": {
    "id": "lr-oAfQDJQfi",
    "scrolled": true
   },
   "outputs": [],
   "source": [
    "df_titanic = df_titanic.drop(columns=[\"new_col\"])\n",
    "df_titanic.head()"
   ]
  },
  {
   "cell_type": "markdown",
   "metadata": {
    "id": "z3Tolj_3JQfj"
   },
   "source": [
    "- To delete a row, you can drop it using index."
   ]
  },
  {
   "cell_type": "code",
   "execution_count": null,
   "metadata": {
    "id": "24LGwa3tJQfj"
   },
   "outputs": [],
   "source": [
    "df_titanic.tail()"
   ]
  },
  {
   "cell_type": "code",
   "execution_count": null,
   "metadata": {
    "id": "Q0UgZCe1JQfj"
   },
   "outputs": [],
   "source": [
    "# We want to delete rows with index: 891, 892, and 893\n",
    "df_titanic = df_titanic.drop([891, 892, 893])\n",
    "df_titanic.tail()"
   ]
  },
  {
   "cell_type": "markdown",
   "metadata": {
    "id": "K_4MKuwUJQfj"
   },
   "source": [
    "# Manipulating Index\n",
    "\n",
    "- Index can be seen as th address of the value that we want."
   ]
  },
  {
   "cell_type": "code",
   "execution_count": null,
   "metadata": {
    "id": "qQab0aLTJQfk",
    "scrolled": true
   },
   "outputs": [],
   "source": [
    "df_titanic.head(5)"
   ]
  },
  {
   "cell_type": "code",
   "execution_count": null,
   "metadata": {
    "id": "g6iGN9cUJQfk"
   },
   "outputs": [],
   "source": [
    "# Setting a column to be an index\n",
    "df_titanic = df_titanic.set_index('Name')\n",
    "df_titanic.head()"
   ]
  },
  {
   "cell_type": "code",
   "execution_count": null,
   "metadata": {
    "id": "pQ4myoggJQfk"
   },
   "outputs": [],
   "source": [
    "df_titanic.loc[\"Heikkinen, Miss. Laina\", [\"Age\", \"Sex\"]]"
   ]
  },
  {
   "cell_type": "code",
   "execution_count": null,
   "metadata": {
    "id": "WJbp0u6kJQfk",
    "scrolled": true
   },
   "outputs": [],
   "source": [
    "# Try indexing like before\n",
    "df_titanic.loc[0]"
   ]
  },
  {
   "cell_type": "code",
   "execution_count": null,
   "metadata": {
    "id": "6392_E02JQfl"
   },
   "outputs": [],
   "source": [
    "# Reverting an index to be a column\n",
    "df_titanic = df_titanic.reset_index()\n",
    "df_titanic.head()"
   ]
  },
  {
   "cell_type": "markdown",
   "metadata": {
    "id": "KnfPyVmqJQfl"
   },
   "source": [
    "- Apabila menambahkan parameter `drop=True` ke dalam reset_index, maka index yang lama tidak menjadi kolom baru, melainkan dihilangkan seutuhnya."
   ]
  },
  {
   "cell_type": "code",
   "execution_count": null,
   "metadata": {
    "id": "ZSie-FvHUdpv"
   },
   "outputs": [],
   "source": [
    "# Try indexing like before again\n",
    "df_titanic.loc[0]"
   ]
  },
  {
   "cell_type": "markdown",
   "metadata": {
    "id": "P_GXdNiPJQfl"
   },
   "source": [
    "# `loc` and `iloc`\n",
    "\n",
    "- `loc` and `iloc` can be used to index rows or columns."
   ]
  },
  {
   "cell_type": "code",
   "execution_count": null,
   "metadata": {
    "id": "MFFcvMZ0JQfl"
   },
   "outputs": [],
   "source": [
    "df_titanic = pd.read_csv(\"https://raw.githubusercontent.com/binggas/public-dataset/main/titanic.csv\")\n",
    "df_titanic.head()"
   ]
  },
  {
   "cell_type": "code",
   "execution_count": null,
   "metadata": {
    "id": "4lWpBJUDJQfm"
   },
   "outputs": [],
   "source": [
    "# show data with index = 0\n",
    "df_titanic.loc[0]"
   ]
  },
  {
   "cell_type": "code",
   "execution_count": null,
   "metadata": {
    "id": "sTm5Au8zJQfm"
   },
   "outputs": [],
   "source": [
    "# show data with index = 1\n",
    "df_titanic.iloc[1]"
   ]
  },
  {
   "cell_type": "code",
   "execution_count": null,
   "metadata": {
    "id": "QUrXKzgtJQfn"
   },
   "outputs": [],
   "source": [
    "# show data with index = 0 through 7 using loc\n",
    "df_titanic.loc[0:7]"
   ]
  },
  {
   "cell_type": "code",
   "execution_count": null,
   "metadata": {
    "id": "9j-ImB8dJQfn"
   },
   "outputs": [],
   "source": [
    "# show data with index = 0 through 6 using iloc\n",
    "df_titanic.iloc[0:7]"
   ]
  },
  {
   "cell_type": "code",
   "execution_count": null,
   "metadata": {
    "id": "duAIL8UtJQfn",
    "scrolled": true
   },
   "outputs": [],
   "source": [
    "# Index with intervals\n",
    "df_titanic.loc[0:7:2]"
   ]
  },
  {
   "cell_type": "code",
   "execution_count": null,
   "metadata": {
    "id": "YPDq3i9UJQfn"
   },
   "outputs": [],
   "source": [
    "# Specific index\n",
    "df_titanic.loc[[0,7,800]]"
   ]
  },
  {
   "cell_type": "markdown",
   "metadata": {
    "id": "eUvT3PH0JQfo"
   },
   "source": [
    "- `loc` and `iloc` can be used to index columns."
   ]
  },
  {
   "cell_type": "code",
   "execution_count": null,
   "metadata": {
    "id": "QvOza1RRJQfo"
   },
   "outputs": [],
   "source": [
    "df_titanic.head()"
   ]
  },
  {
   "cell_type": "code",
   "execution_count": null,
   "metadata": {
    "id": "rBG2Jar4JQfp"
   },
   "outputs": [],
   "source": [
    "df_titanic.shape"
   ]
  },
  {
   "cell_type": "code",
   "execution_count": null,
   "metadata": {
    "id": "3yMMSCsRJQfp"
   },
   "outputs": [],
   "source": [
    "df_titanic.loc[:,'Name']"
   ]
  },
  {
   "cell_type": "code",
   "execution_count": null,
   "metadata": {
    "id": "zK6ctZvpJQfq"
   },
   "outputs": [],
   "source": [
    "df_titanic.iloc[:,3]"
   ]
  },
  {
   "cell_type": "markdown",
   "metadata": {
    "id": "mEQYYGZlJQfq"
   },
   "source": [
    "- You can also index columns with range."
   ]
  },
  {
   "cell_type": "code",
   "execution_count": null,
   "metadata": {
    "id": "fxFABdElJQfq",
    "scrolled": true
   },
   "outputs": [],
   "source": [
    "df_titanic.loc[450:500, \"Name\":\"Ticket\"]"
   ]
  },
  {
   "cell_type": "code",
   "execution_count": null,
   "metadata": {
    "id": "RzxCWr5gJQfq"
   },
   "outputs": [],
   "source": [
    "df_titanic.iloc[:, 3:10:2]"
   ]
  },
  {
   "cell_type": "markdown",
   "metadata": {
    "id": "IgvKQGKtJQfs"
   },
   "source": [
    "- Indexing can also be done with list."
   ]
  },
  {
   "cell_type": "code",
   "execution_count": null,
   "metadata": {
    "id": "YI6oOzkZJQfs"
   },
   "outputs": [],
   "source": [
    "df_titanic.loc[:, [\"Name\", \"Age\", \"Survived\"]]"
   ]
  },
  {
   "cell_type": "markdown",
   "metadata": {
    "id": "pa2-3IwDJQfs"
   },
   "source": [
    "# Indexing with condition"
   ]
  },
  {
   "cell_type": "code",
   "execution_count": null,
   "metadata": {
    "id": "dD1ycz4XJQfs"
   },
   "outputs": [],
   "source": [
    "df_titanic.head()"
   ]
  },
  {
   "cell_type": "code",
   "execution_count": null,
   "metadata": {
    "id": "eVTa7S1LJQfs"
   },
   "outputs": [],
   "source": [
    "df_titanic[\"Survived\"].unique()"
   ]
  },
  {
   "cell_type": "code",
   "execution_count": null,
   "metadata": {
    "id": "XTXPqNgZJQft"
   },
   "outputs": [],
   "source": [
    "condition = df_titanic['Survived']==1\n",
    "condition"
   ]
  },
  {
   "cell_type": "code",
   "execution_count": null,
   "metadata": {
    "id": "a0LLPonYJQft"
   },
   "outputs": [],
   "source": [
    "df_titanic[condition].head()"
   ]
  },
  {
   "cell_type": "code",
   "execution_count": null,
   "metadata": {
    "id": "r4Pv6zk_JQft"
   },
   "outputs": [],
   "source": [
    "df_titanic[df_titanic[\"Survived\"]==1].head()"
   ]
  },
  {
   "cell_type": "code",
   "execution_count": null,
   "metadata": {
    "id": "X8KokHRjJQft",
    "scrolled": true
   },
   "outputs": [],
   "source": [
    "df_titanic[df_titanic['Survived'] == 1].head()"
   ]
  },
  {
   "cell_type": "code",
   "execution_count": null,
   "metadata": {
    "id": "bGCI_WLYJQfu"
   },
   "outputs": [],
   "source": [
    "df_titanic[df_titanic[\"Survived\"] == 1]"
   ]
  },
  {
   "cell_type": "markdown",
   "metadata": {
    "id": "QCLBFhfLJQfu"
   },
   "source": [
    "- Indexing with condition will result in boolean indexing (`True` or `False` value).\n",
    "\n",
    "- To access DataFrame with specific condition, us the code below:"
   ]
  },
  {
   "cell_type": "code",
   "execution_count": null,
   "metadata": {
    "id": "O0PDJy9eJQfu"
   },
   "outputs": [],
   "source": [
    "df_titanic[df_titanic[\"Survived\"] == 1].head()"
   ]
  },
  {
   "cell_type": "markdown",
   "metadata": {
    "id": "sBzmiNziJQfu"
   },
   "source": [
    "* Comparison operators are often used in Pyhton.\n",
    "\n",
    "| Operator                                       | Symbol |\n",
    "|------------------------------------------------|--------|\n",
    "| smaller than                              | <      |\n",
    "| bigger than                               | >      |\n",
    "| smaller than or equal to                   | <=     |\n",
    "| bigger than or equal to                   | >=     |\n",
    "| check similarity                                   | ==     |\n",
    "| check inequality                              | !=     |"
   ]
  },
  {
   "cell_type": "code",
   "execution_count": null,
   "metadata": {
    "id": "EpGeCs3rJQfv"
   },
   "outputs": [],
   "source": [
    "df_titanic[df_titanic[\"Age\"] > 20]"
   ]
  },
  {
   "cell_type": "code",
   "execution_count": null,
   "metadata": {
    "id": "x0b_Cdh0JQfv"
   },
   "outputs": [],
   "source": [
    "df_titanic[df_titanic[\"Age\"] >= 20][[\"Name\", \"Sex\", \"Age\"]]"
   ]
  },
  {
   "cell_type": "markdown",
   "metadata": {
    "id": "nEvA3R3SJQfv"
   },
   "source": [
    "- To index more than one condition, use an operator with conditions inside brackets.\n",
    "\n",
    "| Operator Python | Operator Vektor |\n",
    "|---|---|\n",
    "| _or_ | `\\|` |\n",
    "| _and_   | `&` |\n",
    "| _not_ | `~` |\n",
    "\n",
    "\n",
    "\n",
    "---\n",
    "\n",
    "\n",
    "\n",
    "`df_titanic[(first condition) & (second condition)]`"
   ]
  },
  {
   "cell_type": "code",
   "execution_count": null,
   "metadata": {
    "id": "OkSwD4wcJQfw"
   },
   "outputs": [],
   "source": [
    "# Indexing with more than one conditions.\n",
    "\n",
    "df_titanic[(df_titanic[\"Survived\"] != 0) & (df_titanic[\"Age\"] < 20)]"
   ]
  },
  {
   "cell_type": "markdown",
   "metadata": {
    "id": "aw41EMHta0Sw"
   },
   "source": [
    "# Null Data\n",
    "\n",
    "- You will meet a lot of Null data in teh real world.\n",
    "\n",
    "- You will have to decide what to do with the null data."
   ]
  },
  {
   "cell_type": "code",
   "execution_count": null,
   "metadata": {
    "id": "5deb5cNrbWbc"
   },
   "outputs": [],
   "source": [
    "import seaborn as sns\n",
    "\n",
    "df = sns.load_dataset('titanic')\n",
    "df.head()"
   ]
  },
  {
   "cell_type": "code",
   "execution_count": null,
   "metadata": {
    "id": "PvR4nXvxa_vY"
   },
   "outputs": [],
   "source": [
    "# null data\n",
    "df.isna()"
   ]
  },
  {
   "cell_type": "code",
   "execution_count": null,
   "metadata": {
    "id": "HTunLR15bCy4"
   },
   "outputs": [],
   "source": [
    "# Getting the number of null data in each column.\n",
    "df.isna().sum()"
   ]
  },
  {
   "cell_type": "code",
   "execution_count": null,
   "metadata": {
    "id": "AJo4cTLybQQ7"
   },
   "outputs": [],
   "source": [
    "df[df['embark_town'].isna()]"
   ]
  },
  {
   "cell_type": "markdown",
   "metadata": {
    "id": "DLh2u2x5a_b0"
   },
   "source": [
    "- If the null data is harmless, we can delete the row"
   ]
  },
  {
   "cell_type": "code",
   "execution_count": null,
   "metadata": {
    "id": "zVdIfQqKbeFO"
   },
   "outputs": [],
   "source": [
    "print(df.shape[0])\n",
    "\n",
    "df = df.dropna(subset=[\"embark_town\"])\n",
    "\n",
    "print(df.shape[0])"
   ]
  },
  {
   "cell_type": "code",
   "execution_count": null,
   "metadata": {
    "id": "CxEdUNgmbfQa"
   },
   "outputs": [],
   "source": [
    "df[df['embark_town'].isna()]"
   ]
  },
  {
   "cell_type": "code",
   "execution_count": null,
   "metadata": {
    "id": "hh1WYQXcbgkH"
   },
   "outputs": [],
   "source": [
    "df.isna().sum()"
   ]
  },
  {
   "cell_type": "markdown",
   "metadata": {
    "id": "HuYjjO-Ea_PM"
   },
   "source": [
    "## Impute Data\n",
    "\n",
    "- If we decide to not get rid of the data, we can use `fillna()` to fill in the missing data."
   ]
  },
  {
   "cell_type": "markdown",
   "metadata": {
    "id": "DG-WRLXDbiGK"
   },
   "source": []
  },
  {
   "cell_type": "markdown",
   "metadata": {
    "id": "t31FB1FGbh_L"
   },
   "source": []
  },
  {
   "cell_type": "code",
   "execution_count": null,
   "metadata": {
    "id": "qYp6Xhs-bhwv"
   },
   "outputs": [],
   "source": [
    "df['deck'].value_counts()"
   ]
  },
  {
   "cell_type": "code",
   "execution_count": null,
   "metadata": {
    "id": "zATnH5fybyBi"
   },
   "outputs": [],
   "source": [
    "df['deck'] = df['deck'].fillna(\"C\")\n",
    "df.head()"
   ]
  },
  {
   "cell_type": "code",
   "execution_count": null,
   "metadata": {
    "id": "_j80EW1Mbzcz"
   },
   "outputs": [],
   "source": [
    "df['deck'].value_counts()"
   ]
  },
  {
   "cell_type": "markdown",
   "metadata": {
    "id": "E0M5jMVQb2n_"
   },
   "source": [
    "- If with condition:\n",
    "\n"
   ]
  },
  {
   "cell_type": "code",
   "execution_count": null,
   "metadata": {
    "id": "mlPWCizYb74g"
   },
   "outputs": [],
   "source": [
    "df.loc[(df['embarked']=='S') & (df['deck'].isna()), 'deck'] = 'B'"
   ]
  },
  {
   "cell_type": "code",
   "execution_count": null,
   "metadata": {
    "id": "xGoBK33db-y6"
   },
   "outputs": [],
   "source": [
    "# Option 1\n",
    "\n",
    "df['deck'] = df[(df['embarked'] == 'S')]['deck'].fillna('C')\n",
    "df['deck'] = df[(df['embarked'] == 'B')]['deck'].fillna('C')\n",
    "df['deck'] = df[(df['embarked'] == 'C')]['deck'].fillna('C')"
   ]
  },
  {
   "cell_type": "code",
   "execution_count": null,
   "metadata": {
    "id": "m2TyiOYRcBHl"
   },
   "outputs": [],
   "source": [
    "# Option 2\n",
    "\n",
    "df.loc[df['embarked']=='S', 'deck'] = 'B'\n",
    "df.loc[df['embarked']=='C', 'deck'] = 'C'"
   ]
  },
  {
   "cell_type": "markdown",
   "metadata": {
    "id": "H2ezD0uacGKR"
   },
   "source": [
    "## Pivot Table\n",
    "\n",
    "We can pivot a table manually using `groupby()`\n"
   ]
  },
  {
   "cell_type": "code",
   "execution_count": null,
   "metadata": {
    "id": "FzURKN1TckhJ"
   },
   "outputs": [],
   "source": [
    "df.groupby('sex')['survived'].mean()"
   ]
  },
  {
   "cell_type": "code",
   "execution_count": null,
   "metadata": {
    "id": "oLKMnszccmIU"
   },
   "outputs": [],
   "source": [
    "df.groupby(['sex', 'class', 'deck'])[['survived']].count().sort_values(by=['deck', 'survived'], ascending=[True,False])\n"
   ]
  },
  {
   "cell_type": "markdown",
   "metadata": {
    "id": "pWXxh5rhcGE0"
   },
   "source": [
    "- But we can also pivot a table using `pivot_table()`"
   ]
  },
  {
   "cell_type": "code",
   "execution_count": null,
   "metadata": {
    "id": "AGzodj8dcveY"
   },
   "outputs": [],
   "source": [
    "df.pivot_table('survived', index='sex', columns=['class','deck'])"
   ]
  },
  {
   "cell_type": "markdown",
   "metadata": {
    "id": "shp_u6lNcGAm"
   },
   "source": [
    "- By default, `pivot_table()` uses `mean` to aggragate the data.\n",
    "\n",
    "- If you want to use other aggregation method, you can use `aggfunc` parameter."
   ]
  },
  {
   "cell_type": "code",
   "execution_count": null,
   "metadata": {
    "id": "gBmp_DYsdBm8"
   },
   "outputs": [],
   "source": [
    "df.pivot_table('survived', index='sex', columns='class', aggfunc=np.sum)"
   ]
  },
  {
   "cell_type": "markdown",
   "metadata": {
    "id": "zWGB8SY6cF9s"
   },
   "source": [
    "## Aggregation\n",
    "\n",
    "- Simple aggregation can be done using `groupby()` followed by `agg` parameter."
   ]
  },
  {
   "cell_type": "code",
   "execution_count": null,
   "metadata": {
    "id": "6YnwC4KbdEwx"
   },
   "outputs": [],
   "source": [
    "df.groupby(\"survived\")[[\"age\"]].agg(np.max)"
   ]
  },
  {
   "cell_type": "code",
   "execution_count": null,
   "metadata": {
    "id": "dgpjKuJsdN_r"
   },
   "outputs": [],
   "source": [
    "df.groupby(\"sex\")[[\"survived\"]].agg(np.sum)"
   ]
  },
  {
   "cell_type": "code",
   "execution_count": null,
   "metadata": {
    "id": "05tU6KttdQhA"
   },
   "outputs": [],
   "source": [
    "df.groupby([\"sex\"])[[\"survived\", \"age\"]].agg(np.sum)"
   ]
  },
  {
   "cell_type": "markdown",
   "metadata": {
    "id": "-3sow50CcFpp"
   },
   "source": [
    "- `np.sum` is one aggregation function in `Numpy`. Other functions can also be used:\n",
    "\n",
    "|_Method_|Note|\n",
    "|-|-|\n",
    "|`np.mean()`|Get mean value|\n",
    "|`np.median()`|Get median value|\n",
    "|`np.std()`|Get standard deviation value|\n",
    "|`np.var()`|Get variance value|\n",
    "|`np.sum()`|Get total value|\n",
    "|`np.prod()`|Get product value|\n",
    "|`np.min()`, `np.max()`|Get minimum/maximum value|\n",
    "|`np.argmin()`, `np.argmax()`|Get _index_ from minimum/maximum value|\n",
    "|`np.all()`|Check if all values are `True` |\n",
    "|`np.any()`|Check if any value is `True`|\n",
    "\n",
    "\n",
    "- Other than `Numpy`, `aggregate` or `agg` parameter can also be used.\n",
    "\n",
    "|_string_|Note|\n",
    "|-|-|\n",
    "|`mean`|Get mean value|\n",
    "|`median`|Get median value|\n",
    "|`std`|Get standard deviation value|\n",
    "|`var`|Get variance value|\n",
    "|`sum`|Get total value|\n",
    "|`prod`|Get product value|\n",
    "|`min`, `max`|Get minimum/maximum value|\n",
    "|`all`|Check if all values are `True`|\n",
    "|`any`|Check if any value is `True`|"
   ]
  },
  {
   "cell_type": "code",
   "execution_count": null,
   "metadata": {
    "id": "LqM_gmdmekzj"
   },
   "outputs": [],
   "source": [
    "df.groupby(\"survived\")[[\"age\"]].agg([np.mean, np.max, np.min, np.std])"
   ]
  },
  {
   "cell_type": "code",
   "execution_count": null,
   "metadata": {
    "id": "KqSW0WXGell-"
   },
   "outputs": [],
   "source": [
    "df.groupby(\"survived\").agg({'age':['mean', 'max', 'min'],\n",
    "                           'fare' : ['median', 'max', 'min']\n",
    "                           })"
   ]
  },
  {
   "cell_type": "code",
   "execution_count": null,
   "metadata": {
    "id": "xJW0VoTIeoIJ"
   },
   "outputs": [],
   "source": [
    "df.groupby(\"survived\").agg({'age':'mean',\n",
    "                               'fare':'mean'\n",
    "                           })"
   ]
  },
  {
   "cell_type": "code",
   "execution_count": null,
   "metadata": {
    "id": "p2Y0MzrgeqnW"
   },
   "outputs": [],
   "source": [
    "df.groupby(['survived', 'sex']).agg({'age':['mean', 'max', 'min', 'std'],\n",
    "                               'fare':['median']\n",
    "                           })"
   ]
  },
  {
   "cell_type": "code",
   "execution_count": null,
   "metadata": {
    "id": "qCSQ691oer7m"
   },
   "outputs": [],
   "source": [
    "df.groupby(['survived']).agg({'age':'mean',\n",
    "                              'fare':'median'\n",
    "                             })"
   ]
  },
  {
   "cell_type": "markdown",
   "metadata": {
    "id": "MNieDMcPJQfw"
   },
   "source": [
    "# End of Notebook"
   ]
  }
 ],
 "metadata": {
  "colab": {
   "provenance": [
    {
     "file_id": "1cVKZwVV8x25EpRkrbXGTjC90J2afeyVh",
     "timestamp": 1688377932370
    }
   ]
  },
  "kernelspec": {
   "display_name": "Python 3",
   "language": "python",
   "name": "python3"
  },
  "language_info": {
   "codemirror_mode": {
    "name": "ipython",
    "version": 3
   },
   "file_extension": ".py",
   "mimetype": "text/x-python",
   "name": "python",
   "nbconvert_exporter": "python",
   "pygments_lexer": "ipython3",
   "version": "3.7.4"
  }
 },
 "nbformat": 4,
 "nbformat_minor": 0
}
