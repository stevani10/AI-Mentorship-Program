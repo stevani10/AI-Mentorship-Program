{
 "cells": [
  {
   "cell_type": "markdown",
   "metadata": {
    "id": "atc0Lea2EHS7"
   },
   "source": [
    "# Python Data Structure and Type"
   ]
  },
  {
   "cell_type": "markdown",
   "metadata": {
    "id": "5XKrkI7NEHTA"
   },
   "source": [
    "## Data Type\n",
    "\n",
    "There are a few data types that can be used in Python:\n",
    "1. string : Letters, words, or sentences.\n",
    "2. integer : Numbers, digits; can be positive or negative but not decimals.    \n",
    "3. float : Decimal numbers\n",
    "4. boolean : True or False value"
   ]
  },
  {
   "cell_type": "code",
   "execution_count": null,
   "metadata": {
    "colab": {
     "base_uri": "https://localhost:8080/"
    },
    "executionInfo": {
     "elapsed": 5,
     "status": "ok",
     "timestamp": 1688468446609,
     "user": {
      "displayName": "Adji Gunhardi",
      "userId": "01530679683270108754"
     },
     "user_tz": -420
    },
    "id": "qwrFtjaHEHTA",
    "outputId": "e57916f6-4006-4a0e-99ac-dd4b53030270",
    "scrolled": true
   },
   "outputs": [
    {
     "name": "stdout",
     "output_type": "stream",
     "text": [
      "<class 'str'>\n",
      "<class 'int'>\n",
      "<class 'float'>\n",
      "<class 'bool'>\n"
     ]
    }
   ],
   "source": [
    "print(type('sesuatu'))\n",
    "print(type(10))\n",
    "print(type(10.3))\n",
    "print(type(True))"
   ]
  },
  {
   "cell_type": "markdown",
   "metadata": {
    "id": "5Rrf4gXdEHTB"
   },
   "source": [
    "## Data Structure\n",
    "\n",
    "Data structures that can be used in Python are:\n",
    "1. List\n",
    "2. Tuple\n",
    "3. Set\n",
    "4. Dictionary"
   ]
  },
  {
   "cell_type": "markdown",
   "metadata": {
    "id": "CQemTAVwEHTB"
   },
   "source": [
    "### 1. list\n",
    "\n",
    "- A list is created using square brackets `[ ]` that is filed with data."
   ]
  },
  {
   "cell_type": "code",
   "execution_count": null,
   "metadata": {
    "id": "uHDDX4-FEHTC"
   },
   "outputs": [],
   "source": [
    "list_belanja = ['ayam', 'jeruk', 'beras', 'tomat', 'pisang']\n",
    "print(list_belanja)"
   ]
  },
  {
   "cell_type": "code",
   "execution_count": null,
   "metadata": {
    "id": "2BahHjHtEHTC"
   },
   "outputs": [],
   "source": [
    "list_belanja_baru = ['susu', 'sawi']\n",
    "print(list_belanja_baru)"
   ]
  },
  {
   "cell_type": "markdown",
   "metadata": {
    "id": "c0yJ2razEHTD"
   },
   "source": [
    "- A list can also be made using variabels."
   ]
  },
  {
   "cell_type": "code",
   "execution_count": null,
   "metadata": {
    "id": "RIRrdsqWEHTD"
   },
   "outputs": [],
   "source": [
    "belanja_a = 'ayam'\n",
    "belanja_b = 'jeruk'\n",
    "belanja_c = 'beras'\n",
    "belanja_d = 'tomat'\n",
    "belanja_e = 'pisang'\n",
    "\n",
    "list_belanja = [belanja_a, belanja_b, belanja_c, belanja_d, belanja_e]\n",
    "print(list_belanja)"
   ]
  },
  {
   "cell_type": "code",
   "execution_count": null,
   "metadata": {
    "id": "OCzP_AmAEHTE"
   },
   "outputs": [],
   "source": [
    "print(list_belanja)\n",
    "belanja_a"
   ]
  },
  {
   "cell_type": "markdown",
   "metadata": {
    "id": "f5qNtKp0EHTE"
   },
   "source": [
    "- A list can also include other data types."
   ]
  },
  {
   "cell_type": "code",
   "execution_count": null,
   "metadata": {
    "id": "4sh0TUiVEHTE"
   },
   "outputs": [],
   "source": [
    "int_list = [2, 6, 3049, 18, 37]\n",
    "float_list = [3.7, 8.2, 178.245, 63.1]\n",
    "mixed_list = [26, False, 'some words', 1.264]\n",
    "\n",
    "print(int_list)\n",
    "print(float_list)\n",
    "print(mixed_list)"
   ]
  },
  {
   "cell_type": "markdown",
   "metadata": {
    "id": "PmT4Gkv1EHTE"
   },
   "source": [
    "- A list can include other list within it."
   ]
  },
  {
   "cell_type": "code",
   "execution_count": null,
   "metadata": {
    "id": "kTL5STJIEHTF",
    "scrolled": true
   },
   "outputs": [],
   "source": [
    "list_of_lists = [['a', 'list', 'of', 'words'], [1, 5, 209], [True, True, False]]\n",
    "print(list_of_lists)"
   ]
  },
  {
   "cell_type": "markdown",
   "metadata": {
    "id": "kIxdPl4AEHTF"
   },
   "source": [
    "- A list in Python is called heterogenous because it can inclue a mix of objects."
   ]
  },
  {
   "cell_type": "code",
   "execution_count": null,
   "metadata": {
    "id": "BuPBB2nSEHTF",
    "scrolled": true
   },
   "outputs": [],
   "source": [
    "confusing_list = [[23, 73, 50], 'some words', 12.308, [[False, True], 'more words']]\n",
    "print(confusing_list)"
   ]
  },
  {
   "cell_type": "markdown",
   "metadata": {
    "id": "YO47gTqkEHTF"
   },
   "source": [
    "- To get a certain element from a list, we can use index."
   ]
  },
  {
   "cell_type": "code",
   "execution_count": null,
   "metadata": {
    "id": "x1Sf17QjEHTF"
   },
   "outputs": [],
   "source": [
    "print(list_belanja)"
   ]
  },
  {
   "cell_type": "code",
   "execution_count": null,
   "metadata": {
    "id": "trkldBdLEHTG",
    "scrolled": true
   },
   "outputs": [],
   "source": [
    "list_belanja[3]"
   ]
  },
  {
   "cell_type": "code",
   "execution_count": null,
   "metadata": {
    "id": "3n7sYc4QEHTG"
   },
   "outputs": [],
   "source": [
    "print(list_belanja[0])\n",
    "print(list_belanja[1])\n",
    "print(list_belanja[2])"
   ]
  },
  {
   "cell_type": "markdown",
   "metadata": {
    "id": "nyNrWmI8EHTG"
   },
   "source": [
    "- We can also use slicing to get a few elements at once."
   ]
  },
  {
   "cell_type": "code",
   "execution_count": null,
   "metadata": {
    "id": "NmoLAMVqEHTG",
    "scrolled": true
   },
   "outputs": [],
   "source": [
    "list_belanja"
   ]
  },
  {
   "cell_type": "code",
   "execution_count": null,
   "metadata": {
    "id": "Rjrfm7TNEHTG"
   },
   "outputs": [],
   "source": [
    "print(list_belanja[1:4])\n",
    "print(list_belanja[3:])\n",
    "print(list_belanja[:3])"
   ]
  },
  {
   "cell_type": "markdown",
   "metadata": {
    "id": "ay-6AqjyEHTG"
   },
   "source": [
    "- Python also allows negative indexing system that would allow us to get the last data. The last data can be indexed using `-1`"
   ]
  },
  {
   "cell_type": "code",
   "execution_count": null,
   "metadata": {
    "id": "gj6eFE4kEHTH"
   },
   "outputs": [],
   "source": [
    "list_belanja"
   ]
  },
  {
   "cell_type": "code",
   "execution_count": null,
   "metadata": {
    "id": "P8BmoYstEHTH"
   },
   "outputs": [],
   "source": [
    "list_belanja[-3:]"
   ]
  },
  {
   "cell_type": "code",
   "execution_count": null,
   "metadata": {
    "id": "SUmcpU4tEHTH"
   },
   "outputs": [],
   "source": [
    "print(list_belanja[-1])\n",
    "print(list_belanja[-3:])"
   ]
  },
  {
   "cell_type": "markdown",
   "metadata": {
    "id": "gj2kS5v4EHTH"
   },
   "source": [
    "- We can get elements with intervals"
   ]
  },
  {
   "cell_type": "code",
   "execution_count": null,
   "metadata": {
    "id": "OM7oVnCREHTH"
   },
   "outputs": [],
   "source": [
    "list_belanja"
   ]
  },
  {
   "cell_type": "code",
   "execution_count": null,
   "metadata": {
    "id": "OCoRJHt7EHTH"
   },
   "outputs": [],
   "source": [
    "print(list_belanja[::2])\n",
    "print(list_belanja[4:1:-1])"
   ]
  },
  {
   "cell_type": "markdown",
   "metadata": {
    "id": "8ssh2RsOEHTH"
   },
   "source": [
    "- Getting elements can also be done using for loop."
   ]
  },
  {
   "cell_type": "code",
   "execution_count": null,
   "metadata": {
    "id": "ce0JJrztEHTI"
   },
   "outputs": [],
   "source": [
    "list_belanja"
   ]
  },
  {
   "cell_type": "code",
   "execution_count": null,
   "metadata": {
    "id": "VPoNBxYOEHTI"
   },
   "outputs": [],
   "source": [
    "for i in list_belanja:\n",
    "    print(i)\n",
    "\n",
    "# print(list_belanja)"
   ]
  },
  {
   "cell_type": "markdown",
   "metadata": {
    "id": "zcLlj0fBEHTI"
   },
   "source": [
    "- List is data structure that is `mutable` which means its elements can be replaced using indexing/slicing."
   ]
  },
  {
   "cell_type": "code",
   "execution_count": null,
   "metadata": {
    "id": "0vL40ttTEHTI"
   },
   "outputs": [],
   "source": [
    "list_belanja = ['ayam', 'jeruk', 'beras', 'tomat', 'pisang']\n",
    "print(list_belanja)\n",
    "\n",
    "# replace pisang with anggur\n",
    "list_belanja[-1] = 'anggur'\n",
    "print(list_belanja)\n",
    "\n",
    "# replace jeruk and beras with wortel and kentang\n",
    "list_belanja[1:3] = ['wortel', 'kentang']\n",
    "print(list_belanja)"
   ]
  },
  {
   "cell_type": "markdown",
   "metadata": {
    "id": "IidFHnEsEHTI"
   },
   "source": [
    "- We can also add elements to a list."
   ]
  },
  {
   "cell_type": "code",
   "execution_count": null,
   "metadata": {
    "id": "i02AAg_xEHTI"
   },
   "outputs": [],
   "source": [
    "list_belanja = ['ayam', 'jeruk', 'beras', 'tomat', 'pisang']\n",
    "print(list_belanja)\n",
    "\n",
    "# use append() function\n",
    "list_belanja.append('labu')\n",
    "print(list_belanja)\n",
    "\n",
    "list_belanja.append(['roti', 'garam'])\n",
    "print(list_belanja)"
   ]
  },
  {
   "cell_type": "markdown",
   "metadata": {
    "id": "BVZ__-4MEHTJ"
   },
   "source": [
    "- because a list can include anohter list within, we have to be careful.\n",
    "- Instead of using `append()`, use `extend()`.\n"
   ]
  },
  {
   "cell_type": "code",
   "execution_count": null,
   "metadata": {
    "id": "XrtIVthEEHTR"
   },
   "outputs": [],
   "source": [
    "list_belanja = ['ayam', 'jeruk', 'beras', 'tomat', 'pisang']\n",
    "print(list_belanja)\n",
    "\n",
    "\n",
    "list_belanja.extend(['roti', 'garam'])\n",
    "print(list_belanja)"
   ]
  },
  {
   "cell_type": "markdown",
   "metadata": {
    "id": "-zEGoIHvEHTR"
   },
   "source": [
    "- Elements within a list can also be deleted."
   ]
  },
  {
   "cell_type": "code",
   "execution_count": null,
   "metadata": {
    "id": "YwqYohbWEHTR"
   },
   "outputs": [],
   "source": [
    "list_belanja = ['ayam', 'jeruk', 'beras', 'tomat', 'pisang', 'roti', 'garam']\n",
    "list_belanja.extend(['roti', 'garam'])\n",
    "print(list_belanja)\n",
    "\n",
    "# Delete  the last element\n",
    "del list_belanja[-1]\n",
    "\n",
    "print(list_belanja)"
   ]
  },
  {
   "cell_type": "code",
   "execution_count": null,
   "metadata": {
    "id": "gMqLUhrxEHTS"
   },
   "outputs": [],
   "source": [
    "list_belanja = ['ayam', 'jeruk', 'beras', 'tomat', 'pisang', 'roti', 'garam']\n",
    "\n",
    "print(list_belanja)\n",
    "\n",
    "# Delete the last element and print the deleted element\n",
    "print(list_belanja.pop(-1))\n",
    "\n",
    "print(list_belanja)"
   ]
  },
  {
   "cell_type": "markdown",
   "metadata": {
    "id": "s8L2R1IrEHTS"
   },
   "source": [
    "- A list can be sorted using the `sort()` function"
   ]
  },
  {
   "cell_type": "code",
   "execution_count": null,
   "metadata": {
    "id": "J-IlqwK4EHTS"
   },
   "outputs": [],
   "source": [
    "list_belanja = ['ayam', 'tomat', 'pisang', 'jeruk', 'beras']\n",
    "print(list_belanja)\n",
    "\n",
    "list_belanja.sort()\n",
    "print(list_belanja)"
   ]
  },
  {
   "cell_type": "code",
   "execution_count": null,
   "metadata": {
    "id": "DN1TJ0deEHTS"
   },
   "outputs": [],
   "source": [
    "list_belanja.sort(reverse=True)\n",
    "print(list_belanja)"
   ]
  },
  {
   "cell_type": "markdown",
   "metadata": {
    "id": "PGbq9QKmEHTS"
   },
   "source": [
    "### 2. Tuple\n",
    "\n",
    "- `Tuple` is very similar to `list`, but a tuple is not `mutable`.\n",
    "- `Tuple` can be created using brackets `( )`"
   ]
  },
  {
   "cell_type": "code",
   "execution_count": null,
   "metadata": {
    "id": "2rpyTE-rEHTT"
   },
   "outputs": [],
   "source": [
    "example_tuple = ('Happy', 29, 175.7, True)\n",
    "print(example_tuple)"
   ]
  },
  {
   "cell_type": "code",
   "execution_count": null,
   "metadata": {
    "id": "1r7zBfbiEHTT"
   },
   "outputs": [],
   "source": [
    "example_tuple[0] = 'Ananda'"
   ]
  },
  {
   "cell_type": "markdown",
   "metadata": {
    "id": "ctBIMtGqEHTT"
   },
   "source": [
    "- Meskipun tuple tidak mutable, tuple dapat di-index"
   ]
  },
  {
   "cell_type": "code",
   "execution_count": null,
   "metadata": {
    "id": "haGvoF7IEHTT"
   },
   "outputs": [],
   "source": [
    "print(example_tuple[2])"
   ]
  },
  {
   "cell_type": "code",
   "execution_count": null,
   "metadata": {
    "id": "3nSZOTtaEHTT"
   },
   "outputs": [],
   "source": [
    "example_tuple[2] = 169.3"
   ]
  },
  {
   "cell_type": "code",
   "execution_count": null,
   "metadata": {
    "id": "_C-iZpJdEHTT"
   },
   "outputs": [],
   "source": [
    "# Deleting a tuple element will give an error message\n",
    "del example_tuple[-1]"
   ]
  },
  {
   "cell_type": "markdown",
   "metadata": {
    "id": "eptZJ_MnEHTU"
   },
   "source": [
    "- Python will assume that we want to make a `tuple` even if we don't use brackets `( )`"
   ]
  },
  {
   "cell_type": "code",
   "execution_count": null,
   "metadata": {
    "id": "lj7EFo2fEHTU"
   },
   "outputs": [],
   "source": [
    "another_example_tuple = 'Ali', 36, 162.3, True\n",
    "print(another_example_tuple)\n",
    "print(type(another_example_tuple))"
   ]
  },
  {
   "cell_type": "markdown",
   "metadata": {
    "id": "9yKyq_SbEHTU"
   },
   "source": [
    "- We can unpack a `tuple`.\n",
    "- Every element can be called when needed."
   ]
  },
  {
   "cell_type": "code",
   "execution_count": null,
   "metadata": {
    "id": "K1zU41QdEHTU"
   },
   "outputs": [],
   "source": [
    "example_tuple"
   ]
  },
  {
   "cell_type": "code",
   "execution_count": null,
   "metadata": {
    "id": "GJM8d97JEHTU"
   },
   "outputs": [],
   "source": [
    "name, age, height, has_dog = example_tuple\n",
    "\n",
    "print(name)\n",
    "print(age)\n",
    "print(height)\n",
    "print(has_dog)"
   ]
  },
  {
   "cell_type": "code",
   "execution_count": null,
   "metadata": {
    "id": "PSfwMbthEHTV"
   },
   "outputs": [],
   "source": [
    "list_new = [name, age, has_dog, height]\n",
    "list_new"
   ]
  },
  {
   "cell_type": "markdown",
   "metadata": {
    "id": "yVPbdt7ZEHTV"
   },
   "source": [
    "### 3. set\n",
    "\n",
    "- A `set` is similar to `list`, but unordered.\n",
    "\n",
    "- A `set` can include different data types and also mutable."
   ]
  },
  {
   "cell_type": "code",
   "execution_count": null,
   "metadata": {
    "id": "enTBx2-DEHTV"
   },
   "outputs": [],
   "source": [
    "example_set = {'Happy', 29, 175.7, True}\n",
    "print(example_set)"
   ]
  },
  {
   "cell_type": "markdown",
   "metadata": {
    "id": "dnt0TLbjEHTV"
   },
   "source": [
    "- Eventhough a `set` is created in order, it will show up with different order when printed.\n",
    "\n",
    "- A `set` cannot be sliced."
   ]
  },
  {
   "cell_type": "code",
   "execution_count": null,
   "metadata": {
    "id": "-lDdLr35EHTV"
   },
   "outputs": [],
   "source": [
    "print(example_set[0])"
   ]
  },
  {
   "cell_type": "markdown",
   "metadata": {
    "id": "bGG_Y-VSEHTV"
   },
   "source": [
    "- A `set` can be added elements and its elements can be deleted."
   ]
  },
  {
   "cell_type": "code",
   "execution_count": null,
   "metadata": {
    "id": "xHsYLxYKEHTV"
   },
   "outputs": [],
   "source": [
    "print(example_set)\n",
    "print(example_set.pop())\n",
    "print(example_set)"
   ]
  },
  {
   "cell_type": "markdown",
   "metadata": {
    "id": "MBOxj5ckEHTW"
   },
   "source": [
    "- The `add` function on a set works similarly to `append` on a `list`.\n",
    "\n",
    "- The `update` function on a set works similarly to `extend` on a `list`."
   ]
  },
  {
   "cell_type": "code",
   "execution_count": null,
   "metadata": {
    "id": "U3VIEDMFEHTW"
   },
   "outputs": [],
   "source": [
    "example_set.add('True')\n",
    "print(example_set)\n",
    "\n",
    "example_set.update([58.1, 'brown'])\n",
    "print(example_set)"
   ]
  },
  {
   "cell_type": "markdown",
   "metadata": {
    "id": "dj4RjthcEHTW"
   },
   "source": [
    "- But, why create unordered data using `set`?\n",
    "\n",
    "- Unordered data give flexibility in memory storage.\n",
    "\n",
    "- This flexibility makes data extraction much quicker."
   ]
  },
  {
   "cell_type": "markdown",
   "metadata": {
    "id": "mogKUDQ3EHTW"
   },
   "source": [
    "- Data extraction in a `set` is simple. Because of that, a `set` makes it easier to compare different data in different variables."
   ]
  },
  {
   "cell_type": "code",
   "execution_count": null,
   "metadata": {
    "id": "2zovZXRLEHTW"
   },
   "outputs": [],
   "source": [
    "student_a_courses = {'sejarah', 'bahasa', 'biologi', 'seni'}\n",
    "student_b_courses = {'biologi', 'bahasa', 'matematika', 'ilmu komputer'}\n",
    "\n",
    "print(student_a_courses.intersection(student_b_courses))\n",
    "print(student_a_courses.union(student_b_courses))\n",
    "print(student_a_courses.difference(student_b_courses))\n",
    "print(student_b_courses.difference(student_a_courses))\n",
    "print(student_a_courses.symmetric_difference(student_b_courses))"
   ]
  },
  {
   "cell_type": "code",
   "execution_count": null,
   "metadata": {
    "id": "0T3dysEQEHTW"
   },
   "outputs": [],
   "source": [
    "{'sejarah', 'bahasa', 'biologi', 'seni'}.intersection({'biologi', 'bahasa', 'matematika', 'ilmu komputer'})"
   ]
  },
  {
   "cell_type": "markdown",
   "metadata": {
    "id": "crnczswEEHTX"
   },
   "source": [
    "![image.png](data:image/png;base64,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)"
   ]
  },
  {
   "cell_type": "markdown",
   "metadata": {
    "id": "2DzzbNijEHTX"
   },
   "source": [
    "### 4. dictionary\n",
    "\n",
    "- To understand `dict`, let's take a look back at `list`."
   ]
  },
  {
   "cell_type": "code",
   "execution_count": null,
   "metadata": {
    "id": "TQfJC0hTEHTX"
   },
   "outputs": [],
   "source": [
    "me = ['Anna', 28, 167.5, 56.5, 'hitam', 'hitam', True]"
   ]
  },
  {
   "cell_type": "markdown",
   "metadata": {
    "id": "Y8JRzh66EHTX"
   },
   "source": [
    "- The list above shows: name, age, height, weight, hair color, eye color, and whether she has a dog or not."
   ]
  },
  {
   "cell_type": "code",
   "execution_count": null,
   "metadata": {
    "id": "NCZbTMenEHTX"
   },
   "outputs": [],
   "source": [
    "print('Namaku adalah %s' % me[0])\n",
    "print('Aku punya rambut berwarna %s' % me[4])"
   ]
  },
  {
   "cell_type": "markdown",
   "metadata": {
    "id": "KnqcDwjjEHTX"
   },
   "source": [
    "- It will be confusing which data shows which category. Especially when the data grow. e.g.: which `hitam` that represent hair color or eye color?\n",
    "\n",
    "- To make it easier, we use a data structure that can be indexed based on a value. Instead of using numbered index like `me[0]` to get the first value, we can use `me['nama']`."
   ]
  },
  {
   "cell_type": "code",
   "execution_count": null,
   "metadata": {
    "id": "35YtTd9qEHTY"
   },
   "outputs": [],
   "source": [
    "me_dict = {'nama': 'Anna', 'umur': 28, 'tinggi': 167.5, 'berat': 56.5, 'rambut': 'hitam', 'mata': 'hitam', 'punya_anjing': True}\n",
    "\n",
    "print('Namaku adalah %s' % me_dict['nama'])\n",
    "print('Rambutku berwarna %s' % me_dict['rambut'])"
   ]
  },
  {
   "cell_type": "code",
   "execution_count": null,
   "metadata": {
    "id": "0dORyGjvEHTY"
   },
   "outputs": [],
   "source": [
    "me_dict['nama']"
   ]
  },
  {
   "cell_type": "markdown",
   "metadata": {
    "id": "wc1un94tEHTY"
   },
   "source": [
    "## zip\n",
    "\n",
    "- `zip` is a function that is usefule in creating a `dict`."
   ]
  },
  {
   "cell_type": "code",
   "execution_count": null,
   "metadata": {
    "id": "yocFzs6JEHTY"
   },
   "outputs": [],
   "source": [
    "me"
   ]
  },
  {
   "cell_type": "code",
   "execution_count": null,
   "metadata": {
    "id": "JBlSADS5EHTY"
   },
   "outputs": [],
   "source": [
    "value_list = me\n",
    "key_list = ['nama', 'umur', 'tinggi', 'berat', 'rambut', 'mata', 'punya_anjing']\n",
    "\n",
    "print(value_list)\n",
    "print(key_list)"
   ]
  },
  {
   "cell_type": "markdown",
   "metadata": {
    "id": "WSuxtRqDEHTY"
   },
   "source": [
    "- The two `list`s above (value_list and key_list) can be combined using `zip`."
   ]
  },
  {
   "cell_type": "code",
   "execution_count": null,
   "metadata": {
    "id": "bdgv0rztEHTZ"
   },
   "outputs": [],
   "source": [
    "list(zip(key_list, value_list))"
   ]
  },
  {
   "cell_type": "code",
   "execution_count": null,
   "metadata": {
    "id": "8XkuGrMUEHTZ"
   },
   "outputs": [],
   "source": [
    "key_value_pairs = list(zip(key_list, value_list))\n",
    "print(key_value_pairs)"
   ]
  },
  {
   "cell_type": "markdown",
   "metadata": {
    "id": "XVyW8e62EHTZ"
   },
   "source": [
    "- Now that we have a `list` of a `tuple`, the first element is interpreted as `key` and the other as `value`.\n",
    "\n",
    "- The `key_value_pairs` object can be made into a `dict`"
   ]
  },
  {
   "cell_type": "code",
   "execution_count": null,
   "metadata": {
    "id": "wXYWJcjkEHTZ"
   },
   "outputs": [],
   "source": [
    "me_dict = dict(key_value_pairs)\n",
    "print(me_dict)"
   ]
  },
  {
   "cell_type": "markdown",
   "metadata": {
    "id": "AEaTSYnBEHTZ"
   },
   "source": [
    "- A `dict` is mutable. We can add key-value pair easily."
   ]
  },
  {
   "cell_type": "code",
   "execution_count": null,
   "metadata": {
    "id": "ECtljINlEHTZ"
   },
   "outputs": [],
   "source": [
    "print(me_dict)\n",
    "me_dict['buku_favorit'] =  'The Little Prince'\n",
    "me_dict['warna_favorit'] = 'jingga'\n",
    "print(me_dict)"
   ]
  },
  {
   "cell_type": "markdown",
   "metadata": {
    "id": "CAtv132kEHTa"
   },
   "source": [
    "- A `dict` can be updated, but key-value pair is required."
   ]
  },
  {
   "cell_type": "code",
   "execution_count": null,
   "metadata": {
    "id": "vw3acp8JEHTa"
   },
   "outputs": [],
   "source": [
    "me_dict"
   ]
  },
  {
   "cell_type": "code",
   "execution_count": null,
   "metadata": {
    "id": "Wfr8jPtsEHTa"
   },
   "outputs": [],
   "source": [
    "print(me_dict)\n",
    "me_dict.update({'warna_favorit': 'biru', 'saudara': 3, 'keponakan': 3})\n",
    "print(me_dict)"
   ]
  },
  {
   "cell_type": "code",
   "execution_count": null,
   "metadata": {
    "id": "ewsCU325EHTa"
   },
   "outputs": [],
   "source": [
    "me_dict"
   ]
  },
  {
   "cell_type": "markdown",
   "metadata": {
    "id": "CICxg7q_EHTa"
   },
   "source": [
    "- The key-value pair can be replaced or deleted."
   ]
  },
  {
   "cell_type": "code",
   "execution_count": null,
   "metadata": {
    "id": "8FNvKTudEHTb"
   },
   "outputs": [],
   "source": [
    "print(me_dict)\n",
    "me_dict['keponakan'] = 4\n",
    "print(me_dict)"
   ]
  },
  {
   "cell_type": "code",
   "execution_count": null,
   "metadata": {
    "id": "18YWnmqMEHTb"
   },
   "outputs": [],
   "source": [
    "del me_dict['buku_favorit']\n",
    "print(me_dict)"
   ]
  },
  {
   "cell_type": "code",
   "execution_count": null,
   "metadata": {
    "id": "IvK2vg2vEHTb"
   },
   "outputs": [],
   "source": [
    "print(me_dict.pop('saudara'))\n",
    "print(me_dict)"
   ]
  },
  {
   "cell_type": "markdown",
   "metadata": {
    "id": "_evDNooZEHTb"
   },
   "source": [
    "- A `dict` allows to extract data quickly."
   ]
  },
  {
   "cell_type": "code",
   "execution_count": null,
   "metadata": {
    "id": "SS66cq0zEHTb"
   },
   "outputs": [],
   "source": [
    "me_dict.items()"
   ]
  },
  {
   "cell_type": "code",
   "execution_count": null,
   "metadata": {
    "id": "hcl56Ya_EHTb"
   },
   "outputs": [],
   "source": [
    "print(me_dict.keys())\n",
    "# print(me_dict.values())\n",
    "# print(me_dict.items())"
   ]
  },
  {
   "cell_type": "markdown",
   "metadata": {
    "id": "gHf81RvbEHTc"
   },
   "source": [
    "## Changing the data structure\n",
    "\n",
    "- In Python, we can change data structure between `list`, `tuple`, and `set`"
   ]
  },
  {
   "cell_type": "code",
   "execution_count": null,
   "metadata": {
    "id": "KeaCWXSKEHTc"
   },
   "outputs": [],
   "source": [
    "example_list = ['a', 'b', 23, 10, True, 'a', 10]\n",
    "example_tuple = tuple(example_list)\n",
    "example_set = set(example_tuple)\n",
    "example_list = list(example_set)\n",
    "\n",
    "print(example_tuple)\n",
    "print(example_set)\n",
    "print(example_list)\n",
    "\n",
    "# we lose duplicates because of `set`"
   ]
  },
  {
   "cell_type": "markdown",
   "metadata": {
    "id": "8US95cpqEHTc"
   },
   "source": [
    "## Order\n",
    "\n",
    "- Only `list` has `sort` function.\n",
    "\n",
    "\n",
    "- However, Python provides `sorted` function that can make an ordered `list` from other data structure.\n",
    "\n",
    "- By default, when the `sorted` function is applied to `dict`, the `key` will be sorted.\n",
    "\n",
    "- To sort key-value pair in a `dict`, use `items`."
   ]
  },
  {
   "cell_type": "code",
   "execution_count": null,
   "metadata": {
    "id": "EdCNGrzdEHTc"
   },
   "outputs": [],
   "source": [
    "print(sorted(map(str, example_tuple)))\n",
    "print(sorted(map(str, example_set)))\n",
    "print(sorted(me_dict.items()))\n",
    "print(sorted(me_dict))"
   ]
  },
  {
   "cell_type": "markdown",
   "metadata": {
    "id": "jEKWIGvaEHTc"
   },
   "source": [
    "## Iteration\n",
    "\n",
    "- `for` loop can be used to iterate a data structure.\n",
    "\n",
    "- To do an iteration on a `dict`, we need to specify if we want to iterate on the key, value, or key-value pair."
   ]
  },
  {
   "cell_type": "code",
   "execution_count": null,
   "metadata": {
    "id": "0CMP5Xb7EHTc"
   },
   "outputs": [],
   "source": [
    "me_dict.keys()"
   ]
  },
  {
   "cell_type": "code",
   "execution_count": null,
   "metadata": {
    "id": "eNSXOMNyEHTc"
   },
   "outputs": [],
   "source": [
    "me_dict['nama']"
   ]
  },
  {
   "cell_type": "code",
   "execution_count": null,
   "metadata": {
    "id": "1h9KmAKBEHTd"
   },
   "outputs": [],
   "source": [
    "for k in me_dict:\n",
    "    print(k)"
   ]
  },
  {
   "cell_type": "code",
   "execution_count": null,
   "metadata": {
    "id": "lrYuGnyDEHTd",
    "scrolled": true
   },
   "outputs": [],
   "source": [
    "list_key = []\n",
    "\n",
    "for i, x in enumerate(me_dict):\n",
    "    if i < 3:\n",
    "        list_key.append(x)\n",
    "        print(list_key)"
   ]
  },
  {
   "cell_type": "code",
   "execution_count": null,
   "metadata": {
    "id": "L3-PdY1REHTd"
   },
   "outputs": [],
   "source": [
    "list_key = []\n",
    "\n",
    "for k in me_dict:\n",
    "    list_key.append(k)\n",
    "    print(list_key)\n",
    "\n",
    "print(list_key)"
   ]
  },
  {
   "cell_type": "code",
   "execution_count": null,
   "metadata": {
    "id": "peAHoRRlEHTd"
   },
   "outputs": [],
   "source": [
    "for v in me_dict.values():\n",
    "    print(v)"
   ]
  },
  {
   "cell_type": "code",
   "execution_count": null,
   "metadata": {
    "id": "NKoepy8jEHTd"
   },
   "outputs": [],
   "source": [
    "for k, v in me_dict.items():\n",
    "    print('%s: %s' % (k, v))"
   ]
  },
  {
   "cell_type": "markdown",
   "metadata": {
    "id": "JXKWoHhBEHTe"
   },
   "source": [
    "## Comprehension\n",
    "\n",
    "- Python also has a special syntax called _comprehension_ to combine iteration and data struture creation."
   ]
  },
  {
   "cell_type": "code",
   "execution_count": null,
   "metadata": {
    "id": "XgBXzjk9EHTe"
   },
   "outputs": [],
   "source": [
    "range(10)"
   ]
  },
  {
   "cell_type": "code",
   "execution_count": null,
   "metadata": {
    "id": "3_2jdDZ3EHTe"
   },
   "outputs": [],
   "source": [
    "squares = [x**2 for x in range(10)]\n",
    "# square_lut = {x: x**2 for x in range(10)}\n",
    "\n",
    "print(squares)\n",
    "# print(square_lut)"
   ]
  },
  {
   "cell_type": "markdown",
   "metadata": {
    "id": "ZZne8QLqEHTe"
   },
   "source": [
    "- Comprehension will be useful in doing simple transformation."
   ]
  },
  {
   "cell_type": "code",
   "execution_count": null,
   "metadata": {
    "id": "WVVnIK6SEHTe"
   },
   "outputs": [],
   "source": [
    "{k: type(v) for k, v in me_dict.items()}"
   ]
  },
  {
   "cell_type": "code",
   "execution_count": null,
   "metadata": {
    "id": "45p8_gOXEHTe"
   },
   "outputs": [],
   "source": [
    "me_dict_dtypes = {k: type(v) for k, v in me_dict.items()}\n",
    "print(me_dict_dtypes)"
   ]
  },
  {
   "cell_type": "markdown",
   "metadata": {
    "id": "9BuK0LrTEHTe"
   },
   "source": [
    "## Lambda Function\n",
    "\n",
    "- To create a Lambda function, we need 3 parts:\n",
    "  1. `lambda` keyword\n",
    "  2. parameter\n",
    "  3. function body\n",
    "\n",
    "- Its formal syntax is:\n",
    "    `lambda <parameter>: <expression>`"
   ]
  },
  {
   "cell_type": "code",
   "execution_count": null,
   "metadata": {
    "id": "UlOzQYlMEHTf"
   },
   "outputs": [],
   "source": [
    "tambah_tiga = lambda x: x+3"
   ]
  },
  {
   "cell_type": "code",
   "execution_count": null,
   "metadata": {
    "id": "_IOqiDM4EHTf"
   },
   "outputs": [],
   "source": [
    "print(tambah_tiga(10))"
   ]
  },
  {
   "cell_type": "code",
   "execution_count": null,
   "metadata": {
    "id": "r7-CPb7LEHTf"
   },
   "outputs": [],
   "source": [
    "penambahan = lambda x,y,z: x+y+z\n",
    "print(penambahan(100,5,6))"
   ]
  },
  {
   "cell_type": "markdown",
   "metadata": {
    "id": "IXakBN4iEHTf"
   },
   "source": [
    "- We can also recreate a Lambda function above as a regular function."
   ]
  },
  {
   "cell_type": "code",
   "execution_count": null,
   "metadata": {
    "id": "MI-0B193EHTf"
   },
   "outputs": [],
   "source": [
    "def fungsi_penambahan(x, y, z):\n",
    "    return x+y+z"
   ]
  },
  {
   "cell_type": "code",
   "execution_count": null,
   "metadata": {
    "id": "e-jgiVV4EHTf"
   },
   "outputs": [],
   "source": [
    "def penambahan(x,y,z):\n",
    "    return x+y+z\n",
    "\n",
    "penambahan(100000, 20000, 3)"
   ]
  },
  {
   "cell_type": "code",
   "execution_count": null,
   "metadata": {
    "id": "U2YpgXveEHTf"
   },
   "outputs": [],
   "source": [
    "def penambahan(x,y,z):\n",
    "    return x+y-z\n",
    "\n",
    "print(penambahan(4,5,6))"
   ]
  },
  {
   "cell_type": "markdown",
   "metadata": {
    "id": "kI3GjqYuEHTg"
   },
   "source": [
    "# End of notebook"
   ]
  }
 ],
 "metadata": {
  "colab": {
   "provenance": [
    {
     "file_id": "1n-9wRwsxjYIenMNcIoBVRRuz1vm4aB6i",
     "timestamp": 1688376242391
    }
   ]
  },
  "kernelspec": {
   "display_name": "Python 3",
   "language": "python",
   "name": "python3"
  },
  "language_info": {
   "codemirror_mode": {
    "name": "ipython",
    "version": 3
   },
   "file_extension": ".py",
   "mimetype": "text/x-python",
   "name": "python",
   "nbconvert_exporter": "python",
   "pygments_lexer": "ipython3",
   "version": "3.7.4"
  }
 },
 "nbformat": 4,
 "nbformat_minor": 0
}
